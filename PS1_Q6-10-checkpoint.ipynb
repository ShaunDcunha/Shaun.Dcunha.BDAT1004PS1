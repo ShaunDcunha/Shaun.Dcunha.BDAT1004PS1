{
 "cells": [
  {
   "cell_type": "markdown",
   "id": "8c625b26",
   "metadata": {},
   "source": [
    "\n",
    "# Q6: You can turn a word into pig-Latin using the following two rules (simplified):\n",
    "• If the word starts with a consonant, move that letter to the end and append 'ay'. For example, 'happy' becomes 'appyhay' and 'pencil' becomes 'encilpay'.\n",
    "• If the word starts with a vowel, simply append 'way' to the end of the word. For example, 'enter' becomes 'enterway' and 'other' becomes 'otherway' . For our purposes, there are 5 vowels: a, e, i, o, u (so we count y as a consonant).\n",
    "Write a function pig() that takes a word (i.e., a string) as input and returns its pig- Latin form. Your function should still work if the input word contains upper case characters. Your output should always be lower case however."
   ]
  },
  {
   "cell_type": "code",
   "execution_count": 1,
   "id": "d0ee7f30",
   "metadata": {},
   "outputs": [
    {
     "name": "stdout",
     "output_type": "stream",
     "text": [
      "appyhay\n",
      "enterway\n",
      "otherway\n",
      "encilpay\n"
     ]
    }
   ],
   "source": [
    "def pig(a):   \n",
    "    a=a.lower() \n",
    "    a1=\"\"   \n",
    "    if(a[0]=='a'or a[0]=='e'or a[0]=='i' or a[0]=='o' or a[0]=='u'):\n",
    "        a1=a+\"way\"  \n",
    "    else:\n",
    "        for i in range(1,len(a)):  \n",
    "            a1=a1+a[i]  \n",
    "        a1=a1+a[0]+\"ay\" \n",
    "    return a1  \n",
    "\n",
    "print(pig(\"happy\"))  \n",
    "print(pig(\"Enter\"))\n",
    "print(pig(\"Other\"))\n",
    "print(pig(\"pencil\"))"
   ]
  },
  {
   "cell_type": "markdown",
   "id": "f7a29182",
   "metadata": {},
   "source": [
    "# Q7: File bloodtype1.txt records blood-types of patients (A, B, AB, O or OO) at a clinic. Write a function bldcount() that reads the file with name name and reports (i.e., prints) how many patients there are in each bloodtype."
   ]
  },
  {
   "cell_type": "code",
   "execution_count": 4,
   "id": "a72aad1e",
   "metadata": {},
   "outputs": [],
   "source": [
    "def bldcount(): \n",
    "    bloodtypes = ['A', 'B', 'AB', 'O', 'OO'] \n",
    "    counts = [0] * len(bloodtypes) \n",
    "    with open('bloodtype.txt','r') as f: \n",
    "        for line in f: \n",
    "            bloodtype = line.strip() \n",
    "            if bloodtype in bloodtypes: \n",
    "                counts[bloodtypes.index(bloodtype)] += 1 \n",
    "                for i in range(len(bloodtypes)): \n",
    "                    if counts[i] == 1: \n",
    "                        print('There is one patient of blood type {}.'.format(bloodtypes[i])) \n",
    "                    elif counts[i] > 1: \n",
    "                            print('There are {} patients of blood type {}.'.format(counts[i], bloodtypes[i])) \n",
    "                    else: print('There are no patients of blood type {}.'.format(bloodtypes[i]))  \n",
    "    bldcount('bloodtype.txt')"
   ]
  },
  {
   "cell_type": "markdown",
   "id": "37968362",
   "metadata": {},
   "source": [
    " # Q8: Write a function curconv() that takes as input:\n",
    "1.a currency represented using a string (e.g., 'JPY' for the Japanese Yen or 'EUR' for the Euro)\n",
    "2.an amount\n",
    "and then converts and returns the amount in US dollars."
   ]
  },
  {
   "cell_type": "code",
   "execution_count": 4,
   "id": "d71136e9",
   "metadata": {},
   "outputs": [
    {
     "name": "stdout",
     "output_type": "stream",
     "text": [
      "122.96544\n",
      "1.241401\n"
     ]
    }
   ],
   "source": [
    "def curconv(a,b):     \n",
    "    ans=0     \n",
    "    l=['AUD','CHF','CNY','DKK','EUR','GBP','HKD','INR','JPY','MXN','MYR','NOK','NZD','PHP','SEK','SGD','THB']     \n",
    "    l1=[1.0345157,1.0237414,0.1550176,0.1651442,1.2296544,1.5550989,0.1270207,0.0177643,0.01241401,0.0751848,0.3145411,0.1677063,0.8003591,0.0233234,0.148269,0.788871,0.0313789]     \n",
    "    for i in range(len(l)):         \n",
    "        if(l[i]==a):             \n",
    "            ans=b*l1[i]             \n",
    "            break     \n",
    "    return ans; \n",
    "print(curconv(\"EUR\",100))\n",
    "print(curconv(\"JPY\",100))"
   ]
  },
  {
   "cell_type": "markdown",
   "id": "826ac258",
   "metadata": {},
   "source": [
    "# Q9: Each of the following will cause an exception (an error). Identify what type of exception each will cause.\n",
    "\n",
    " 1)Trying to add incompatible variables, as in adding 6+ 'a'\n",
    " \n",
    "Answer:\n",
    "TypeError: unsupported operand type(s) for +: 'int' and 'str'\n",
    "\n",
    " 2)Referring to the 12 ^ (th) item of a list that has only 10 items\n",
    " \n",
    "Answer:\n",
    "IndexError:list index out of range \n",
    "\n",
    " 3)Using a value that is out of range for a function's input, such as calling sqrt(- 1.0)\n",
    " \n",
    "Answer:\n",
    "ValueError: math domain error\n",
    "Answer:\n",
    " 4)Using an undeclared variable, such as print t(x) when x has not been defined\n",
    " \n",
    "Answer:\n",
    "NameError: name 'x' is not defined\n",
    "\n",
    " 5)Trying to open a file that does not exist, such as mistyping the file name or looking in the wrong directory.\n",
    " \n",
    "Answer:\n",
    "IOError:  No such file or directory "
   ]
  },
  {
   "cell_type": "markdown",
   "id": "c0cf7bc0",
   "metadata": {},
   "source": [
    "# Q10: Encryption is the process of hiding the meaning of a text by substituting letters in the message with other letters, according to some system. If the process is successful, no one but the intended recipient can understand the encrypted message. Cryptanalysis refers to attempts to undo the encryption, even if some details of the encryption are unknown (for example, if an encrypted message has been intercepted). The first step of cryptanalysis is often to build up a table of letter frequencies in the encrypted text. Assume that the string letters is already defined as 'abcdefghijklmnopqrstuvwxyz'. Write a function called frequencies() that takes a string as its only parameter, and returns a list of integers, showing the number of times each character appears in the text. Your function may ignore any characters that are not in letters."
   ]
  },
  {
   "cell_type": "code",
   "execution_count": 2,
   "id": "c3499e7f",
   "metadata": {},
   "outputs": [
    {
     "name": "stdout",
     "output_type": "stream",
     "text": [
      "Enter String : apple\n",
      "frequencies: \n",
      "{'a': 1, 'b': 0, 'c': 0, 'd': 0, 'e': 1, 'f': 0, 'g': 0, 'h': 0, 'i': 0, 'j': 0, 'k': 0, 'l': 1, 'm': 0, 'n': 0, 'o': 0, 'p': 2, 'q': 0, 'r': 0, 's': 0, 't': 0, 'u': 0, 'v': 0, 'w': 0, 'x': 0, 'y': 0, 'z': 0}\n"
     ]
    }
   ],
   "source": [
    "import string\n",
    "from collections import OrderedDict\n",
    "def frequencies(str1):\n",
    "    dict1=dict(OrderedDict(zip(string.ascii_lowercase,[0]*26)))\n",
    "    \n",
    "    for i in range(0,len(str1)):\n",
    "        if str1[i]=='a' or str1[i]=='A':\n",
    "            dict1['a']+=1\n",
    "            \n",
    "        elif str1[i]=='b' or str1[i]=='B':\n",
    "            dict1['b']+=1\n",
    "            \n",
    "        elif str1[i]=='c' or str1[i]=='c':\n",
    "            dict1['c']+=1\n",
    "            \n",
    "        elif str1[i]=='d' or str1[i]=='D':\n",
    "            dict1['d']+=1\n",
    "            \n",
    "        elif str1[i]=='e' or str1[i]=='E':\n",
    "            dict1['e']+=1\n",
    "            \n",
    "        elif str1[i]=='f' or str1[i]=='F':\n",
    "            dict1['f']+=1\n",
    "            \n",
    "        elif str1[i]=='g' or str1[i]=='G':\n",
    "            dict1['g']+=1\n",
    "            \n",
    "        elif str1[i]=='h' or str1[i]=='H':\n",
    "            dict1['h']+=1\n",
    "            \n",
    "        elif str1[i]=='i' or str1[i]=='I':\n",
    "            dict1['i']+=1\n",
    "            \n",
    "        elif str1[i]=='j' or str1[i]=='J':\n",
    "            dict1['j']+=1\n",
    "            \n",
    "        elif str1[i]=='k' or str1[i]=='K':\n",
    "            dict1['k']+=1\n",
    "            \n",
    "        elif str1[i]=='l' or str1[i]=='L':\n",
    "            dict1['l']+=1\n",
    "            \n",
    "        elif str1[i]=='m' or str1[i]=='M':\n",
    "            dict1['m']+=1\n",
    "            \n",
    "        elif str1[i]=='n' or str1[i]=='N':\n",
    "            dict1['n']+=1\n",
    "            \n",
    "        elif str1[i]=='o' or str1[i]=='O':\n",
    "            dict1['o']+=1\n",
    "            \n",
    "        elif str1[i]=='p' or str1[i]=='P':\n",
    "            dict1['p']+=1\n",
    "            \n",
    "        elif str1[i]=='q' or str1[i]=='Q':\n",
    "            dict1['q']+=1\n",
    "            \n",
    "        elif str1[i]=='r' or str1[i]=='R':\n",
    "            dict1['r']+=1\n",
    "            \n",
    "        elif str1[i]=='s' or str1[i]=='S':\n",
    "            dict1['s']+=1\n",
    "            \n",
    "        elif str1[i]=='t' or str1[i]=='T':\n",
    "            dict1['t']+=1\n",
    "            \n",
    "        elif str1[i]=='u' or str1[i]=='U':\n",
    "            dict1['u']+=1\n",
    "            \n",
    "        elif str1[i]=='v' or str1[i]=='V':\n",
    "            dict1['v']+=1\n",
    "            \n",
    "        elif str1[i]=='w' or str1[i]=='W':\n",
    "            dict1['w']+=1\n",
    "            \n",
    "        elif str1[i]=='x' or str1[i]=='X':\n",
    "            dict1['x']+=1\n",
    "            \n",
    "        elif str1[i]=='y' or str1[i]=='Y':\n",
    "            dict1['y']+=1\n",
    "        \n",
    "        elif str1[i]=='z' or str1[i]=='Z':\n",
    "            dict1['z']+=1\n",
    "        \n",
    "\n",
    "    return dict1\n",
    "\n",
    "def main():\n",
    "    str1=input(\"Enter String : \")\n",
    "    dict1=frequencies(str1)\n",
    "    print(\"frequencies: \")\n",
    "    print(dict1)\n",
    "\n",
    "if __name__==\"__main__\":\n",
    "    main()"
   ]
  },
  {
   "cell_type": "code",
   "execution_count": null,
   "id": "cbb9e386",
   "metadata": {},
   "outputs": [],
   "source": []
  }
 ],
 "metadata": {
  "kernelspec": {
   "display_name": "Python 3 (ipykernel)",
   "language": "python",
   "name": "python3"
  },
  "language_info": {
   "codemirror_mode": {
    "name": "ipython",
    "version": 3
   },
   "file_extension": ".py",
   "mimetype": "text/x-python",
   "name": "python",
   "nbconvert_exporter": "python",
   "pygments_lexer": "ipython3",
   "version": "3.10.9"
  }
 },
 "nbformat": 4,
 "nbformat_minor": 5
}
