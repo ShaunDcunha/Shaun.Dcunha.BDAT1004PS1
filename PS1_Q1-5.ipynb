{
 "cells": [
  {
   "attachments": {},
   "cell_type": "markdown",
   "metadata": {},
   "source": [
    "## Question 1:\n",
    "What data type is each of the following?  \n",
    " 1. 5 \n",
    " \n",
    " Ans: Integer\n",
    "\n",
    "2. 5.0  \n",
    "Ans: Float \n",
    "\n",
    "3. 5 > 1  \n",
    "Ans: Boolean \n",
    "\n",
    "4. '5'  \n",
    "Ans: char \n",
    "\n",
    "5. 5 * 2   \n",
    "Ans: Integer \n",
    "\n",
    "6. '5' * 2  \n",
    "Ans: Integer \n",
    "\n",
    "7. '5' + '2'  \n",
    "Ans: String\n",
    "\n",
    "8. 5 / 2  \n",
    "Ans: Float\n",
    "\n",
    "9. 5 % 2  \n",
    "Ans: Integer \n",
    "\n",
    "10. {5, 2, 1}  \n",
    "Ans: Array \n",
    "\n",
    "11. 5 == 3  \n",
    "Ans: Boolean\n",
    "  \n",
    "12. Pi (the number)  \n",
    "Ans: Double"
   ]
  },
  {
   "attachments": {},
   "cell_type": "markdown",
   "metadata": {},
   "source": [
    "## Question 2 :\n",
    "Write (and evaluate) C# expressions that answer these questions:  \n",
    "a. How many letters are there in 'Supercalifragilisticexpialidocious'?  \n",
    "  \n",
    "b. Does 'Supercalifragilisticexpialidocious' contain 'ice' as a substring?   \n",
    "  \n",
    "c. Which of the following words is the longest:  \n",
    "Supercalifragilisticexpialidocious,  \n",
    "Honorificabilitudinitatibus, or  \n",
    "Bababadalgharaghtakamminarronnkonn?  \n",
    "  \n",
    "d. Which composer comes first in the dictionary:  \n",
    "'Berlioz', 'Borodin', 'Brian','Bartok', 'Bellini', 'Buxtehude', 'Bernstein'.  \n",
    "Which one comes last?"
   ]
  },
  {
   "cell_type": "code",
   "execution_count": 7,
   "metadata": {
    "dotnet_interactive": {
     "language": "csharp"
    },
    "polyglot_notebook": {
     "kernelName": "csharp"
    }
   },
   "outputs": [
    {
     "name": "stdout",
     "output_type": "stream",
     "text": [
      "34\r\n"
     ]
    }
   ],
   "source": [
    "// a\n",
    "string inputStr1 = \"Supercalifragilisticexpialidocious\";\n",
    "int strLen = inputStr1.Length;\n",
    "Console.WriteLine(strLen)"
   ]
  },
  {
   "cell_type": "code",
   "execution_count": 8,
   "metadata": {
    "dotnet_interactive": {
     "language": "csharp"
    },
    "polyglot_notebook": {
     "kernelName": "csharp"
    }
   },
   "outputs": [
    {
     "data": {
      "text/html": [
       "<div class=\"dni-plaintext\"><pre>True</pre></div><style>\r\n",
       ".dni-code-hint {\r\n",
       "    font-style: italic;\r\n",
       "    overflow: hidden;\r\n",
       "    white-space: nowrap;\r\n",
       "}\r\n",
       ".dni-treeview {\r\n",
       "    white-space: nowrap;\r\n",
       "}\r\n",
       ".dni-treeview td {\r\n",
       "    vertical-align: top;\r\n",
       "    text-align: start;\r\n",
       "}\r\n",
       "details.dni-treeview {\r\n",
       "    padding-left: 1em;\r\n",
       "}\r\n",
       "table td {\r\n",
       "    text-align: start;\r\n",
       "}\r\n",
       "table tr { \r\n",
       "    vertical-align: top; \r\n",
       "    margin: 0em 0px;\r\n",
       "}\r\n",
       "table tr td pre \r\n",
       "{ \r\n",
       "    vertical-align: top !important; \r\n",
       "    margin: 0em 0px !important;\r\n",
       "} \r\n",
       "table th {\r\n",
       "    text-align: start;\r\n",
       "}\r\n",
       "</style>"
      ]
     },
     "metadata": {},
     "output_type": "display_data"
    }
   ],
   "source": [
    "// b\n",
    "string inputStr2 = \"Supercalifragilisticexpialidocious\";\n",
    "\n",
    "string checkStr = \"ice\";\n",
    "\n",
    "bool result = inputStr2.Contains(checkStr);\n",
    "\n",
    "result"
   ]
  },
  {
   "cell_type": "code",
   "execution_count": 5,
   "metadata": {
    "dotnet_interactive": {
     "language": "csharp"
    },
    "polyglot_notebook": {
     "kernelName": "csharp"
    }
   },
   "outputs": [
    {
     "name": "stdout",
     "output_type": "stream",
     "text": [
      "Supercalifragilisticexpialidocious is the longest with length 34\n",
      "Bababadalgharaghtakamminarronnkonn is the longest with length 34\n",
      "There are a total of 2 string with length 34\n"
     ]
    }
   ],
   "source": [
    "// c\n",
    "string a = \"Supercalifragilisticexpialidocious\";\n",
    "string b = \"Honorificabilitudinitatibus\";\n",
    "string c = \"Bababadalgharaghtakamminarronnkonn\";\n",
    "int max =0;\n",
    "int count = 0;\n",
    "string[] strings = {a, b, c};\n",
    "foreach (string s in strings)\n",
    "{\n",
    "    if(s.Length > max)\n",
    "    {\n",
    "        max = s.Length;    \n",
    "    }\n",
    "}\n",
    "foreach(string s in strings)\n",
    "{\n",
    "    if(s.Length == max)\n",
    "    {\n",
    "        Console.WriteLine($\"{s} is the longest with length {max}\");\n",
    "        count ++;\n",
    "    } \n",
    "}\n",
    "Console.WriteLine($\"There are a total of {count} string with length {max}\")\n"
   ]
  },
  {
   "cell_type": "code",
   "execution_count": 4,
   "metadata": {
    "dotnet_interactive": {
     "language": "csharp"
    },
    "polyglot_notebook": {
     "kernelName": "csharp"
    }
   },
   "outputs": [
    {
     "name": "stdout",
     "output_type": "stream",
     "text": [
      "The composer Bartok comes first in the dictionary\n",
      "The composer Buxtehude comes last in the dictionary\n"
     ]
    }
   ],
   "source": [
    "// d\n",
    "string[] lst = {\"Berlioz\", \"Borodin\", \"Brian\", \"Bartok\", \"Bellini\", \"Buxtehude\", \"Bernstein\"};\n",
    "Array.Sort(lst);\n",
    "Console.WriteLine($\"The composer {lst[0]} comes first in the dictionary\" );\n",
    "Console.WriteLine($\"The composer {lst[lst.Length - 1]} comes last in the dictionary\" );"
   ]
  },
  {
   "attachments": {},
   "cell_type": "markdown",
   "metadata": {},
   "source": [
    "## Question 3 :\n",
    "Implement function triangleArea(a,b,c) that takes as input the lengths of the 3\n",
    "sides of a triangle and returns the area of the triangle. By Heron's formula, the area\n",
    "of a triangle with side lengths a, b, and c is square root of  s(s − a)(s − b)(s − c), where  \n",
    "s = (a + b + c)/2.  \n",
    ".>>> triangleArea(2,2,2)  \n",
    "1.7320508075688772"
   ]
  },
  {
   "cell_type": "code",
   "execution_count": 9,
   "metadata": {
    "dotnet_interactive": {
     "language": "csharp"
    },
    "polyglot_notebook": {
     "kernelName": "csharp"
    }
   },
   "outputs": [
    {
     "data": {
      "text/html": [
       "<div class=\"dni-plaintext\"><pre>1.7320508075688772</pre></div><style>\r\n",
       ".dni-code-hint {\r\n",
       "    font-style: italic;\r\n",
       "    overflow: hidden;\r\n",
       "    white-space: nowrap;\r\n",
       "}\r\n",
       ".dni-treeview {\r\n",
       "    white-space: nowrap;\r\n",
       "}\r\n",
       ".dni-treeview td {\r\n",
       "    vertical-align: top;\r\n",
       "    text-align: start;\r\n",
       "}\r\n",
       "details.dni-treeview {\r\n",
       "    padding-left: 1em;\r\n",
       "}\r\n",
       "table td {\r\n",
       "    text-align: start;\r\n",
       "}\r\n",
       "table tr { \r\n",
       "    vertical-align: top; \r\n",
       "    margin: 0em 0px;\r\n",
       "}\r\n",
       "table tr td pre \r\n",
       "{ \r\n",
       "    vertical-align: top !important; \r\n",
       "    margin: 0em 0px !important;\r\n",
       "} \r\n",
       "table th {\r\n",
       "    text-align: start;\r\n",
       "}\r\n",
       "</style>"
      ]
     },
     "metadata": {},
     "output_type": "display_data"
    }
   ],
   "source": [
    "double traingleArea(int a,int b,int c)\n",
    "{\n",
    "    int s = (a + b + c)/2;\n",
    "    double area = Math.Sqrt(s*(s-a) * (s-b)* (s-c));\n",
    "    return area;\n",
    "\n",
    "}\n",
    "\n",
    "traingleArea(2,2,2)"
   ]
  },
  {
   "attachments": {},
   "cell_type": "markdown",
   "metadata": {},
   "source": [
    "## Question 4 :\n",
    "Write a program in C# Sharp to separate odd and even integers in separate arrays.  \n",
    "Go to the editor  \n",
    "Test Data :  \n",
    "Input the number of elements to be stored in the array :5  \n",
    "Input 5 elements in the array :  \n",
    "element - 0 : 25  \n",
    "element - 1 : 47  \n",
    "element - 2 : 42  \n",
    "element - 3 : 56  \n",
    "element - 4 : 32  \n",
    "Expected Output:  \n",
    "The Even elements are:  \n",
    "42 56 32  \n",
    "The Odd elements are :  \n",
    "25 47"
   ]
  },
  {
   "cell_type": "code",
   "execution_count": null,
   "metadata": {
    "dotnet_interactive": {
     "language": "csharp"
    },
    "polyglot_notebook": {
     "kernelName": "csharp"
    }
   },
   "outputs": [
    {
     "name": "stdout",
     "output_type": "stream",
     "text": [
      "Input the number of elements to be stored in the array: "
     ]
    },
    {
     "ename": "Error",
     "evalue": "System.FormatException: The input string '' was not in a correct format.\r\n   at System.Number.ThrowOverflowOrFormatException(ParsingStatus status, ReadOnlySpan`1 value, TypeCode type)\r\n   at System.Convert.ToInt32(String value)\r\n   at Submission#13.<<Initialize>>d__0.MoveNext()\r\n--- End of stack trace from previous location ---\r\n   at Microsoft.CodeAnalysis.Scripting.ScriptExecutionState.RunSubmissionsAsync[TResult](ImmutableArray`1 precedingExecutors, Func`2 currentExecutor, StrongBox`1 exceptionHolderOpt, Func`2 catchExceptionOpt, CancellationToken cancellationToken)",
     "output_type": "error",
     "traceback": [
      "System.FormatException: The input string '' was not in a correct format.\r\n",
      "   at System.Number.ThrowOverflowOrFormatException(ParsingStatus status, ReadOnlySpan`1 value, TypeCode type)\r\n",
      "   at System.Convert.ToInt32(String value)\r\n",
      "   at Submission#13.<<Initialize>>d__0.MoveNext()\r\n",
      "--- End of stack trace from previous location ---\r\n",
      "   at Microsoft.CodeAnalysis.Scripting.ScriptExecutionState.RunSubmissionsAsync[TResult](ImmutableArray`1 precedingExecutors, Func`2 currentExecutor, StrongBox`1 exceptionHolderOpt, Func`2 catchExceptionOpt, CancellationToken cancellationToken)"
     ]
    }
   ],
   "source": [
    "using System.Collections;\n",
    "\n",
    "Console.Write(\"Input the number of elements to be stored in the array: \");\n",
    "int numbers = Convert.ToInt32(Console.ReadLine());\n",
    "ArrayList even = new ArrayList();\n",
    "ArrayList odd = new ArrayList();\n",
    "int inputStr;\n",
    "Console.WriteLine($\"Input {numbers} elements in the array\");\n",
    "for (int i = 0; i < numbers; i++)\n",
    "{\n",
    "    Console.Write($\"Enter element {i} : \");\n",
    "    inputStr = Convert.ToInt32(Console.ReadLine());\n",
    "\n",
    "    if (inputStr % 2 == 0)\n",
    "    {\n",
    "        even.Add(inputStr);\n",
    "    }\n",
    "    else\n",
    "    {\n",
    "        odd.Add(inputStr);\n",
    "    }\n",
    "}\n",
    "\n",
    "Console.WriteLine(\"Even numbers are:\");\n",
    "foreach (int num in even)\n",
    "{\n",
    "    Console.Write($\"{num}  \");\n",
    "}\n",
    "\n",
    "Console.WriteLine(\"\\nOdd numbers are:\");\n",
    "foreach (int num in odd)\n",
    "{\n",
    "    Console.Write($\"{num}  \");\n",
    "}\n"
   ]
  },
  {
   "attachments": {},
   "cell_type": "markdown",
   "metadata": {},
   "source": [
    "# Question 5 :\n",
    "a. Write a function inside(x,y,x1,y1,x2,y2) that returns True or False\n",
    "depending on whether the point (x,y) lies in the rectangle with lower left\n",
    "corner (x1,y1) and upper right corner (x2,y2).\n",
    "  \n",
    ".>>> inside(1,1,0,0,2,3)  \n",
    "True  \n",
    ".>>> inside(-1,-1,0,0,2,3)  \n",
    "False  \n",
    "b. Use function inside() from part a. to write an expression that tests whether\n",
    "the point (1,1) lies in both of the following rectangles: one with lower left\n",
    "corner (0.3, 0.5) and upper right corner (1.1, 0.7) and the other with lower\n",
    "left corner (0.5, 0.2) and upper right corner (1.1, 2)."
   ]
  },
  {
   "cell_type": "code",
   "execution_count": 2,
   "metadata": {
    "dotnet_interactive": {
     "language": "csharp"
    },
    "polyglot_notebook": {
     "kernelName": "csharp"
    }
   },
   "outputs": [
    {
     "data": {
      "text/html": [
       "<div class=\"dni-plaintext\"><pre>True</pre></div><style>\r\n",
       ".dni-code-hint {\r\n",
       "    font-style: italic;\r\n",
       "    overflow: hidden;\r\n",
       "    white-space: nowrap;\r\n",
       "}\r\n",
       ".dni-treeview {\r\n",
       "    white-space: nowrap;\r\n",
       "}\r\n",
       ".dni-treeview td {\r\n",
       "    vertical-align: top;\r\n",
       "    text-align: start;\r\n",
       "}\r\n",
       "details.dni-treeview {\r\n",
       "    padding-left: 1em;\r\n",
       "}\r\n",
       "table td {\r\n",
       "    text-align: start;\r\n",
       "}\r\n",
       "table tr { \r\n",
       "    vertical-align: top; \r\n",
       "    margin: 0em 0px;\r\n",
       "}\r\n",
       "table tr td pre \r\n",
       "{ \r\n",
       "    vertical-align: top !important; \r\n",
       "    margin: 0em 0px !important;\r\n",
       "} \r\n",
       "table th {\r\n",
       "    text-align: start;\r\n",
       "}\r\n",
       "</style>"
      ]
     },
     "metadata": {},
     "output_type": "display_data"
    }
   ],
   "source": [
    "// a solution\n",
    "bool inside(double x,double y,double x1,double y1,double x2,double y2)\n",
    "{\n",
    "    if(x1<x && x<x2)\n",
    "    {\n",
    "        if(y1<y && y<y2)\n",
    "        {\n",
    "            return true;\n",
    "        }\n",
    "    }\n",
    "    return false;\n",
    "}\n",
    "inside(1,1,0,0,2,3)"
   ]
  },
  {
   "cell_type": "code",
   "execution_count": 3,
   "metadata": {
    "dotnet_interactive": {
     "language": "csharp"
    },
    "polyglot_notebook": {
     "kernelName": "csharp"
    }
   },
   "outputs": [
    {
     "data": {
      "text/html": [
       "<div class=\"dni-plaintext\"><pre>False</pre></div><style>\r\n",
       ".dni-code-hint {\r\n",
       "    font-style: italic;\r\n",
       "    overflow: hidden;\r\n",
       "    white-space: nowrap;\r\n",
       "}\r\n",
       ".dni-treeview {\r\n",
       "    white-space: nowrap;\r\n",
       "}\r\n",
       ".dni-treeview td {\r\n",
       "    vertical-align: top;\r\n",
       "    text-align: start;\r\n",
       "}\r\n",
       "details.dni-treeview {\r\n",
       "    padding-left: 1em;\r\n",
       "}\r\n",
       "table td {\r\n",
       "    text-align: start;\r\n",
       "}\r\n",
       "table tr { \r\n",
       "    vertical-align: top; \r\n",
       "    margin: 0em 0px;\r\n",
       "}\r\n",
       "table tr td pre \r\n",
       "{ \r\n",
       "    vertical-align: top !important; \r\n",
       "    margin: 0em 0px !important;\r\n",
       "} \r\n",
       "table th {\r\n",
       "    text-align: start;\r\n",
       "}\r\n",
       "</style>"
      ]
     },
     "metadata": {},
     "output_type": "display_data"
    }
   ],
   "source": [
    "inside(-1,-1,0,0,2,3)"
   ]
  },
  {
   "cell_type": "code",
   "execution_count": 4,
   "metadata": {
    "dotnet_interactive": {
     "language": "csharp"
    },
    "polyglot_notebook": {
     "kernelName": "csharp"
    }
   },
   "outputs": [
    {
     "data": {
      "text/html": [
       "<div class=\"dni-plaintext\"><pre>False</pre></div><style>\r\n",
       ".dni-code-hint {\r\n",
       "    font-style: italic;\r\n",
       "    overflow: hidden;\r\n",
       "    white-space: nowrap;\r\n",
       "}\r\n",
       ".dni-treeview {\r\n",
       "    white-space: nowrap;\r\n",
       "}\r\n",
       ".dni-treeview td {\r\n",
       "    vertical-align: top;\r\n",
       "    text-align: start;\r\n",
       "}\r\n",
       "details.dni-treeview {\r\n",
       "    padding-left: 1em;\r\n",
       "}\r\n",
       "table td {\r\n",
       "    text-align: start;\r\n",
       "}\r\n",
       "table tr { \r\n",
       "    vertical-align: top; \r\n",
       "    margin: 0em 0px;\r\n",
       "}\r\n",
       "table tr td pre \r\n",
       "{ \r\n",
       "    vertical-align: top !important; \r\n",
       "    margin: 0em 0px !important;\r\n",
       "} \r\n",
       "table th {\r\n",
       "    text-align: start;\r\n",
       "}\r\n",
       "</style>"
      ]
     },
     "metadata": {},
     "output_type": "display_data"
    }
   ],
   "source": [
    "// b solution\n",
    "bool CheckBothRect(double x,double y)\n",
    "{\n",
    "    bool rect1 = inside(x,y,0.3,0.5,1.1,0.7);\n",
    "    bool rect2 = inside(x,y,0.5,0.2,1.1,2);\n",
    "    return rect1 && rect2;\n",
    "}\n",
    "CheckBothRect(1,1)"
   ]
  }
 ],
 "metadata": {
  "kernelspec": {
   "display_name": ".NET (C#)",
   "language": "C#",
   "name": ".net-csharp"
  },
  "language_info": {
   "name": "polyglot-notebook"
  },
  "orig_nbformat": 4,
  "polyglot_notebook": {
   "kernelInfo": {
    "defaultKernelName": "csharp",
    "items": [
     {
      "aliases": [],
      "name": "csharp"
     }
    ]
   }
  }
 },
 "nbformat": 4,
 "nbformat_minor": 2
}
